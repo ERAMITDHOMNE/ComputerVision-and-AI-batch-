{
 "cells": [
  {
   "cell_type": "markdown",
   "metadata": {
    "toc": "true"
   },
   "source": [
    "# Table of Contents\n",
    " <p><div class=\"lev1 toc-item\"><a href=\"#Building-an-ANN\" data-toc-modified-id=\"Building-an-ANN-1\"><span class=\"toc-item-num\">1&nbsp;&nbsp;</span>Building an ANN</a></div><div class=\"lev2 toc-item\"><a href=\"#Installing-packages\" data-toc-modified-id=\"Installing-packages-11\"><span class=\"toc-item-num\">1.1&nbsp;&nbsp;</span>Installing packages</a></div><div class=\"lev2 toc-item\"><a href=\"#Data-Preprocessing\" data-toc-modified-id=\"Data-Preprocessing-12\"><span class=\"toc-item-num\">1.2&nbsp;&nbsp;</span>Data Preprocessing</a></div><div class=\"lev2 toc-item\"><a href=\"#Building-an-ANN\" data-toc-modified-id=\"Building-an-ANN-13\"><span class=\"toc-item-num\">1.3&nbsp;&nbsp;</span>Building an ANN</a></div><div class=\"lev2 toc-item\"><a href=\"#Making-predictions-and-evaluating-the-model\" data-toc-modified-id=\"Making-predictions-and-evaluating-the-model-14\"><span class=\"toc-item-num\">1.4&nbsp;&nbsp;</span>Making predictions and evaluating the model</a></div><div class=\"lev2 toc-item\"><a href=\"#Evaluating,-Improving-and-Tuning-the-ANN\" data-toc-modified-id=\"Evaluating,-Improving-and-Tuning-the-ANN-15\"><span class=\"toc-item-num\">1.5&nbsp;&nbsp;</span>Evaluating, Improving and Tuning the ANN</a></div>"
   ]
  },
  {
   "cell_type": "markdown",
   "metadata": {},
   "source": [
    "# Building an ANN\n",
    "\n"
   ]
  },
  {
   "cell_type": "markdown",
   "metadata": {
    "collapsed": true
   },
   "source": [
    "## Installing packages"
   ]
  },
  {
   "cell_type": "code",
   "execution_count": 1,
   "metadata": {
    "collapsed": true
   },
   "outputs": [],
   "source": [
    "# Installing Theano\n",
    "# pip install --upgrade --no-deps git+git://github.com/Theano/Theano.git\n",
    "\n",
    "# Installing Tensorflow\n",
    "# pip install tensorflow\n",
    "\n",
    "# Installing Keras\n",
    "# pip install --upgrade keras"
   ]
  },
  {
   "cell_type": "markdown",
   "metadata": {},
   "source": [
    "## Data Preprocessing"
   ]
  },
  {
   "cell_type": "code",
   "execution_count": 1,
   "metadata": {},
   "outputs": [],
   "source": [
    "# Importing the libraries\n",
    "import numpy as np\n",
    "import matplotlib.pyplot as plt\n",
    "import pandas as pd\n",
    "\n",
    "# Importing the dataset\n",
    "dataset = pd.read_csv(r\"C:\\Users\\erami\\OneDrive\\Desktop\\Chegg\\deep-learning-a-z-master\\DeepLearningA-Z\\02-supervised-deep-learning\\01-Artificial-Neural-Networks-ANN\\Artificial_Neural_Networks\\Churn_Modelling.csv\")\n",
    "X = dataset.iloc[:, 3:13].values\n",
    "y = dataset.iloc[:, 13].values"
   ]
  },
  {
   "cell_type": "markdown",
   "metadata": {},
   "source": [
    "- y (actual value): exited, this is the value we are trying to predict, which means if the customer stays or exit the bank."
   ]
  },
  {
   "cell_type": "code",
   "execution_count": 2,
   "metadata": {},
   "outputs": [
    {
     "name": "stdout",
     "output_type": "stream",
     "text": [
      "(10000, 10)\n"
     ]
    },
    {
     "data": {
      "text/plain": [
       "array([[619, 'France', 'Female', ..., 1, 1, 101348.88],\n",
       "       [608, 'Spain', 'Female', ..., 0, 1, 112542.58],\n",
       "       [502, 'France', 'Female', ..., 1, 0, 113931.57],\n",
       "       ...,\n",
       "       [709, 'France', 'Female', ..., 0, 1, 42085.58],\n",
       "       [772, 'Germany', 'Male', ..., 1, 0, 92888.52],\n",
       "       [792, 'France', 'Female', ..., 1, 0, 38190.78]], dtype=object)"
      ]
     },
     "execution_count": 2,
     "metadata": {},
     "output_type": "execute_result"
    }
   ],
   "source": [
    "print (X.shape)\n",
    "X"
   ]
  },
  {
   "cell_type": "code",
   "execution_count": 3,
   "metadata": {},
   "outputs": [
    {
     "name": "stdout",
     "output_type": "stream",
     "text": [
      "(10000,)\n"
     ]
    },
    {
     "data": {
      "text/plain": [
       "array([1, 0, 1, ..., 1, 1, 0], dtype=int64)"
      ]
     },
     "execution_count": 3,
     "metadata": {},
     "output_type": "execute_result"
    }
   ],
   "source": [
    "print (y.shape)\n",
    "y"
   ]
  },
  {
   "cell_type": "code",
   "execution_count": 6,
   "metadata": {},
   "outputs": [
    {
     "name": "stdout",
     "output_type": "stream",
     "text": [
      "\n"
     ]
    }
   ],
   "source": [
    "# Encoding categorical data\n",
    "from sklearn.preprocessing import LabelEncoder, OneHotEncoder\n",
    "labelencoder_X_1 = LabelEncoder()\n",
    "X[:, 1] = labelencoder_X_1.fit_transform(X[:, 1])\n",
    "labelencoder_X_2 = LabelEncoder()\n",
    "X[:, 2] = labelencoder_X_2.fit_transform(X[:, 2])\n",
    "onehotencoder = OneHotEncoder(categorical_features = [1])\n",
    "X = onehotencoder.fit_transform(X).toarray()\n",
    "X = X[:, 1:]"
   ]
  },
  {
   "cell_type": "code",
   "execution_count": 6,
   "metadata": {},
   "outputs": [
    {
     "name": "stdout",
     "output_type": "stream",
     "text": [
      "(10000, 11)\n"
     ]
    },
    {
     "data": {
      "text/plain": [
       "array([[  0.00000000e+00,   0.00000000e+00,   6.19000000e+02, ...,\n",
       "          1.00000000e+00,   1.00000000e+00,   1.01348880e+05],\n",
       "       [  0.00000000e+00,   1.00000000e+00,   6.08000000e+02, ...,\n",
       "          0.00000000e+00,   1.00000000e+00,   1.12542580e+05],\n",
       "       [  0.00000000e+00,   0.00000000e+00,   5.02000000e+02, ...,\n",
       "          1.00000000e+00,   0.00000000e+00,   1.13931570e+05],\n",
       "       ..., \n",
       "       [  0.00000000e+00,   0.00000000e+00,   7.09000000e+02, ...,\n",
       "          0.00000000e+00,   1.00000000e+00,   4.20855800e+04],\n",
       "       [  1.00000000e+00,   0.00000000e+00,   7.72000000e+02, ...,\n",
       "          1.00000000e+00,   0.00000000e+00,   9.28885200e+04],\n",
       "       [  0.00000000e+00,   0.00000000e+00,   7.92000000e+02, ...,\n",
       "          1.00000000e+00,   0.00000000e+00,   3.81907800e+04]])"
      ]
     },
     "execution_count": 6,
     "metadata": {},
     "output_type": "execute_result"
    }
   ],
   "source": [
    "print (X.shape)\n",
    "X"
   ]
  },
  {
   "cell_type": "code",
   "execution_count": 7,
   "metadata": {},
   "outputs": [
    {
     "name": "stdout",
     "output_type": "stream",
     "text": [
      "(10000,)\n"
     ]
    },
    {
     "data": {
      "text/plain": [
       "array([1, 0, 1, ..., 1, 1, 0])"
      ]
     },
     "execution_count": 7,
     "metadata": {},
     "output_type": "execute_result"
    }
   ],
   "source": [
    "print (y.shape)\n",
    "y"
   ]
  },
  {
   "cell_type": "code",
   "execution_count": 3,
   "metadata": {
    "collapsed": true
   },
   "outputs": [],
   "source": [
    "# Splitting the dataset into the Training set and Test set\n",
    "from sklearn.model_selection import train_test_split\n",
    "X_train, X_test, y_train, y_test = train_test_split(X, y, test_size = 0.2, random_state = 0)"
   ]
  },
  {
   "cell_type": "code",
   "execution_count": 4,
   "metadata": {
    "collapsed": true
   },
   "outputs": [],
   "source": [
    "# Feature Scaling\n",
    "from sklearn.preprocessing import StandardScaler\n",
    "sc = StandardScaler()\n",
    "X_train = sc.fit_transform(X_train)\n",
    "X_test = sc.transform(X_test)"
   ]
  },
  {
   "cell_type": "markdown",
   "metadata": {},
   "source": [
    "## Building an ANN"
   ]
  },
  {
   "cell_type": "code",
   "execution_count": 5,
   "metadata": {},
   "outputs": [
    {
     "name": "stderr",
     "output_type": "stream",
     "text": [
      "Using TensorFlow backend.\n"
     ]
    }
   ],
   "source": [
    "# Importing the Keras libraries and packages\n",
    "import keras\n",
    "from keras.models import Sequential\n",
    "from keras.layers import Dense"
   ]
  },
  {
   "cell_type": "code",
   "execution_count": 11,
   "metadata": {
    "collapsed": true
   },
   "outputs": [],
   "source": [
    "# Initialising the ANN\n",
    "classifier = Sequential()"
   ]
  },
  {
   "cell_type": "markdown",
   "metadata": {},
   "source": [
    "- __Tips__: \n",
    "    - number of nodes in the hidden layer = average of number of nodes in the input layer and number of nodes in the output layer.\n",
    "    - (11 + 1)/2 = 6"
   ]
  },
  {
   "cell_type": "code",
   "execution_count": 12,
   "metadata": {
    "collapsed": true
   },
   "outputs": [],
   "source": [
    "# Adding the input layer and the first hidden layer\n",
    "classifier.add(Dense(units = 6, kernel_initializer = 'uniform', activation = 'relu', input_dim = 11))\n",
    "\n",
    "# Adding the second hidden layer\n",
    "classifier.add(Dense(units = 6, kernel_initializer = 'uniform', activation = 'relu'))\n",
    "\n",
    "# Adding the output layer\n",
    "classifier.add(Dense(units = 1, kernel_initializer = 'uniform', activation = 'sigmoid'))"
   ]
  },
  {
   "cell_type": "code",
   "execution_count": 13,
   "metadata": {},
   "outputs": [
    {
     "name": "stdout",
     "output_type": "stream",
     "text": [
      "Epoch 1/100\n",
      "8000/8000 [==============================] - 2s - loss: 0.4849 - acc: 0.7957     \n",
      "Epoch 2/100\n",
      "8000/8000 [==============================] - 2s - loss: 0.4271 - acc: 0.7960     \n",
      "Epoch 3/100\n",
      "8000/8000 [==============================] - 2s - loss: 0.4208 - acc: 0.8016     \n",
      "Epoch 4/100\n",
      "8000/8000 [==============================] - 2s - loss: 0.4175 - acc: 0.8232     \n",
      "Epoch 5/100\n",
      "8000/8000 [==============================] - 2s - loss: 0.4155 - acc: 0.8285     \n",
      "Epoch 6/100\n",
      "8000/8000 [==============================] - 2s - loss: 0.4134 - acc: 0.8309     \n",
      "Epoch 7/100\n",
      "8000/8000 [==============================] - 2s - loss: 0.4121 - acc: 0.8317     \n",
      "Epoch 8/100\n",
      "8000/8000 [==============================] - 2s - loss: 0.4107 - acc: 0.8334     \n",
      "Epoch 9/100\n",
      "8000/8000 [==============================] - 2s - loss: 0.4103 - acc: 0.8346     \n",
      "Epoch 10/100\n",
      "8000/8000 [==============================] - 2s - loss: 0.4091 - acc: 0.8340     \n",
      "Epoch 11/100\n",
      "8000/8000 [==============================] - 2s - loss: 0.4078 - acc: 0.8350     \n",
      "Epoch 12/100\n",
      "8000/8000 [==============================] - 2s - loss: 0.4072 - acc: 0.8340     \n",
      "Epoch 13/100\n",
      "8000/8000 [==============================] - 2s - loss: 0.4065 - acc: 0.8344     \n",
      "Epoch 14/100\n",
      "8000/8000 [==============================] - 2s - loss: 0.4065 - acc: 0.8349     \n",
      "Epoch 15/100\n",
      "8000/8000 [==============================] - 2s - loss: 0.4057 - acc: 0.8355     \n",
      "Epoch 16/100\n",
      "8000/8000 [==============================] - 2s - loss: 0.4050 - acc: 0.8340     \n",
      "Epoch 17/100\n",
      "8000/8000 [==============================] - 2s - loss: 0.4049 - acc: 0.8354     \n",
      "Epoch 18/100\n",
      "8000/8000 [==============================] - 2s - loss: 0.4040 - acc: 0.8332     \n",
      "Epoch 19/100\n",
      "8000/8000 [==============================] - 2s - loss: 0.4028 - acc: 0.8352     \n",
      "Epoch 20/100\n",
      "8000/8000 [==============================] - 2s - loss: 0.4022 - acc: 0.8356     \n",
      "Epoch 21/100\n",
      "8000/8000 [==============================] - 2s - loss: 0.4013 - acc: 0.8360     \n",
      "Epoch 22/100\n",
      "8000/8000 [==============================] - 2s - loss: 0.4007 - acc: 0.8352     \n",
      "Epoch 23/100\n",
      "8000/8000 [==============================] - 2s - loss: 0.3999 - acc: 0.8364     \n",
      "Epoch 24/100\n",
      "8000/8000 [==============================] - 2s - loss: 0.3999 - acc: 0.8361     \n",
      "Epoch 25/100\n",
      "8000/8000 [==============================] - 2s - loss: 0.3990 - acc: 0.8344     \n",
      "Epoch 26/100\n",
      "8000/8000 [==============================] - 2s - loss: 0.3985 - acc: 0.8359     \n",
      "Epoch 27/100\n",
      "8000/8000 [==============================] - 2s - loss: 0.3977 - acc: 0.8354     \n",
      "Epoch 28/100\n",
      "8000/8000 [==============================] - 2s - loss: 0.3975 - acc: 0.8351     \n",
      "Epoch 29/100\n",
      "8000/8000 [==============================] - 2s - loss: 0.3975 - acc: 0.8344     \n",
      "Epoch 30/100\n",
      "8000/8000 [==============================] - 2s - loss: 0.3975 - acc: 0.8350     \n",
      "Epoch 31/100\n",
      "8000/8000 [==============================] - 2s - loss: 0.3967 - acc: 0.8354     \n",
      "Epoch 32/100\n",
      "8000/8000 [==============================] - 2s - loss: 0.3965 - acc: 0.8342     \n",
      "Epoch 33/100\n",
      "8000/8000 [==============================] - 2s - loss: 0.3964 - acc: 0.8354     \n",
      "Epoch 34/100\n",
      "8000/8000 [==============================] - 2s - loss: 0.3964 - acc: 0.8359     \n",
      "Epoch 35/100\n",
      "8000/8000 [==============================] - 2s - loss: 0.3962 - acc: 0.8356     \n",
      "Epoch 36/100\n",
      "8000/8000 [==============================] - 2s - loss: 0.3958 - acc: 0.8367     \n",
      "Epoch 37/100\n",
      "8000/8000 [==============================] - 2s - loss: 0.3953 - acc: 0.8364     \n",
      "Epoch 38/100\n",
      "8000/8000 [==============================] - 2s - loss: 0.3958 - acc: 0.8355     \n",
      "Epoch 39/100\n",
      "8000/8000 [==============================] - 2s - loss: 0.3954 - acc: 0.8380     \n",
      "Epoch 40/100\n",
      "8000/8000 [==============================] - 2s - loss: 0.3954 - acc: 0.8366     \n",
      "Epoch 41/100\n",
      "8000/8000 [==============================] - 2s - loss: 0.3954 - acc: 0.8340     \n",
      "Epoch 42/100\n",
      "8000/8000 [==============================] - 2s - loss: 0.3952 - acc: 0.8362     \n",
      "Epoch 43/100\n",
      "8000/8000 [==============================] - 2s - loss: 0.3947 - acc: 0.8350     \n",
      "Epoch 44/100\n",
      "8000/8000 [==============================] - 2s - loss: 0.3951 - acc: 0.8362     \n",
      "Epoch 45/100\n",
      "8000/8000 [==============================] - 2s - loss: 0.3945 - acc: 0.8356     \n",
      "Epoch 46/100\n",
      "8000/8000 [==============================] - 2s - loss: 0.3949 - acc: 0.8354     \n",
      "Epoch 47/100\n",
      "8000/8000 [==============================] - 2s - loss: 0.3952 - acc: 0.8366     \n",
      "Epoch 48/100\n",
      "8000/8000 [==============================] - 2s - loss: 0.3950 - acc: 0.8377     \n",
      "Epoch 49/100\n",
      "8000/8000 [==============================] - 2s - loss: 0.3942 - acc: 0.8359     \n",
      "Epoch 50/100\n",
      "8000/8000 [==============================] - 2s - loss: 0.3944 - acc: 0.8357     \n",
      "Epoch 51/100\n",
      "8000/8000 [==============================] - 2s - loss: 0.3947 - acc: 0.8359     \n",
      "Epoch 52/100\n",
      "8000/8000 [==============================] - 3s - loss: 0.3944 - acc: 0.8379     \n",
      "Epoch 53/100\n",
      "8000/8000 [==============================] - 3s - loss: 0.3946 - acc: 0.8365     \n",
      "Epoch 54/100\n",
      "8000/8000 [==============================] - 3s - loss: 0.3946 - acc: 0.8366     \n",
      "Epoch 55/100\n",
      "8000/8000 [==============================] - 2s - loss: 0.3943 - acc: 0.8356     \n",
      "Epoch 56/100\n",
      "8000/8000 [==============================] - 2s - loss: 0.3944 - acc: 0.8352     \n",
      "Epoch 57/100\n",
      "8000/8000 [==============================] - 2s - loss: 0.3948 - acc: 0.8371     \n",
      "Epoch 58/100\n",
      "8000/8000 [==============================] - 3s - loss: 0.3940 - acc: 0.8371     \n",
      "Epoch 59/100\n",
      "8000/8000 [==============================] - 3s - loss: 0.3944 - acc: 0.8361     \n",
      "Epoch 60/100\n",
      "8000/8000 [==============================] - 3s - loss: 0.3941 - acc: 0.8361     \n",
      "Epoch 61/100\n",
      "8000/8000 [==============================] - 2s - loss: 0.3942 - acc: 0.8367     \n",
      "Epoch 62/100\n",
      "8000/8000 [==============================] - 2s - loss: 0.3933 - acc: 0.8372     \n",
      "Epoch 63/100\n",
      "8000/8000 [==============================] - 2s - loss: 0.3940 - acc: 0.8366     \n",
      "Epoch 64/100\n",
      "8000/8000 [==============================] - 2s - loss: 0.3937 - acc: 0.8362     \n",
      "Epoch 65/100\n",
      "8000/8000 [==============================] - 2s - loss: 0.3938 - acc: 0.8365     \n",
      "Epoch 66/100\n",
      "8000/8000 [==============================] - 2s - loss: 0.3929 - acc: 0.8377     \n",
      "Epoch 67/100\n",
      "8000/8000 [==============================] - 2s - loss: 0.3934 - acc: 0.8361     \n",
      "Epoch 68/100\n",
      "8000/8000 [==============================] - 2s - loss: 0.3936 - acc: 0.8350     \n",
      "Epoch 69/100\n",
      "8000/8000 [==============================] - 2s - loss: 0.3930 - acc: 0.8370     \n",
      "Epoch 70/100\n",
      "8000/8000 [==============================] - 2s - loss: 0.3922 - acc: 0.8376     \n",
      "Epoch 71/100\n",
      "8000/8000 [==============================] - 2s - loss: 0.3921 - acc: 0.8374     \n",
      "Epoch 72/100\n",
      "8000/8000 [==============================] - 2s - loss: 0.3919 - acc: 0.8381     \n",
      "Epoch 73/100\n",
      "8000/8000 [==============================] - 2s - loss: 0.3918 - acc: 0.8375     \n",
      "Epoch 74/100\n",
      "8000/8000 [==============================] - 2s - loss: 0.3910 - acc: 0.8380     \n",
      "Epoch 75/100\n",
      "8000/8000 [==============================] - 3s - loss: 0.3907 - acc: 0.8375     \n",
      "Epoch 76/100\n",
      "8000/8000 [==============================] - 3s - loss: 0.3902 - acc: 0.8386     \n",
      "Epoch 77/100\n",
      "8000/8000 [==============================] - 2s - loss: 0.3897 - acc: 0.8380     \n",
      "Epoch 78/100\n",
      "8000/8000 [==============================] - 2s - loss: 0.3892 - acc: 0.8386     \n",
      "Epoch 79/100\n",
      "8000/8000 [==============================] - 2s - loss: 0.3873 - acc: 0.8389     \n",
      "Epoch 80/100\n",
      "8000/8000 [==============================] - 2s - loss: 0.3848 - acc: 0.8386     \n",
      "Epoch 81/100\n",
      "8000/8000 [==============================] - 2s - loss: 0.3818 - acc: 0.8377     \n",
      "Epoch 82/100\n",
      "8000/8000 [==============================] - 2s - loss: 0.3790 - acc: 0.8381     \n",
      "Epoch 83/100\n",
      "8000/8000 [==============================] - 2s - loss: 0.3749 - acc: 0.8396     \n",
      "Epoch 84/100\n",
      "8000/8000 [==============================] - 2s - loss: 0.3701 - acc: 0.8419     \n",
      "Epoch 85/100\n",
      "8000/8000 [==============================] - 2s - loss: 0.3665 - acc: 0.8437     \n",
      "Epoch 86/100\n",
      "8000/8000 [==============================] - 2s - loss: 0.3641 - acc: 0.8452     \n",
      "Epoch 87/100\n",
      "8000/8000 [==============================] - 2s - loss: 0.3616 - acc: 0.8467     \n",
      "Epoch 88/100\n",
      "8000/8000 [==============================] - 2s - loss: 0.3598 - acc: 0.8511     \n",
      "Epoch 89/100\n",
      "8000/8000 [==============================] - 2s - loss: 0.3583 - acc: 0.8512     \n",
      "Epoch 90/100\n",
      "8000/8000 [==============================] - 2s - loss: 0.3576 - acc: 0.8530     \n",
      "Epoch 91/100\n",
      "8000/8000 [==============================] - 2s - loss: 0.3565 - acc: 0.8536     \n",
      "Epoch 92/100\n",
      "8000/8000 [==============================] - 2s - loss: 0.3554 - acc: 0.8545     \n",
      "Epoch 93/100\n",
      "8000/8000 [==============================] - 2s - loss: 0.3534 - acc: 0.8545     \n",
      "Epoch 94/100\n",
      "8000/8000 [==============================] - 2s - loss: 0.3527 - acc: 0.8560     \n",
      "Epoch 95/100\n",
      "8000/8000 [==============================] - 2s - loss: 0.3514 - acc: 0.8555     \n",
      "Epoch 96/100\n",
      "8000/8000 [==============================] - 2s - loss: 0.3498 - acc: 0.8557     \n",
      "Epoch 97/100\n",
      "8000/8000 [==============================] - 2s - loss: 0.3496 - acc: 0.8585     \n",
      "Epoch 98/100\n",
      "8000/8000 [==============================] - 2s - loss: 0.3489 - acc: 0.8584     \n",
      "Epoch 99/100\n",
      "8000/8000 [==============================] - 2s - loss: 0.3479 - acc: 0.8589     \n",
      "Epoch 100/100\n",
      "8000/8000 [==============================] - 2s - loss: 0.3478 - acc: 0.8577     \n"
     ]
    },
    {
     "data": {
      "text/plain": [
       "<keras.callbacks.History at 0x12731e908>"
      ]
     },
     "execution_count": 13,
     "metadata": {},
     "output_type": "execute_result"
    }
   ],
   "source": [
    "# Compiling the ANN\n",
    "classifier.compile(optimizer = 'adam', loss = 'binary_crossentropy', metrics = ['accuracy'])\n",
    "\n",
    "# Fitting the ANN to the Training set\n",
    "classifier.fit(X_train, y_train, batch_size = 10, epochs = 100)"
   ]
  },
  {
   "cell_type": "markdown",
   "metadata": {},
   "source": [
    "## Making predictions and evaluating the model"
   ]
  },
  {
   "cell_type": "code",
   "execution_count": 14,
   "metadata": {
    "collapsed": true
   },
   "outputs": [],
   "source": [
    "y_pred = classifier.predict(X_test)\n",
    "y_pred = (y_pred > 0.5)"
   ]
  },
  {
   "cell_type": "code",
   "execution_count": 15,
   "metadata": {
    "collapsed": true
   },
   "outputs": [],
   "source": [
    "# Making the Confusion Matrix\n",
    "from sklearn.metrics import confusion_matrix\n",
    "cm = confusion_matrix(y_test, y_pred)"
   ]
  },
  {
   "cell_type": "code",
   "execution_count": 16,
   "metadata": {},
   "outputs": [
    {
     "data": {
      "text/plain": [
       "array([[1503,   92],\n",
       "       [ 189,  216]])"
      ]
     },
     "execution_count": 16,
     "metadata": {},
     "output_type": "execute_result"
    }
   ],
   "source": [
    "cm"
   ]
  },
  {
   "cell_type": "markdown",
   "metadata": {},
   "source": [
    "## Evaluating, Improving and Tuning the ANN\n",
    "- Using K-Fold Cross validation with Keras"
   ]
  },
  {
   "cell_type": "code",
   "execution_count": 7,
   "metadata": {
    "collapsed": true
   },
   "outputs": [],
   "source": [
    "# Evaluating the ANN\n",
    "from keras.wrappers.scikit_learn import KerasClassifier\n",
    "from sklearn.model_selection import cross_val_score\n",
    "from keras.models import Sequential\n",
    "from keras.layers import Dense\n",
    "def build_classifier():\n",
    "    classifier = Sequential()\n",
    "    classifier.add(Dense(units = 6, kernel_initializer = 'uniform', activation = 'relu', input_dim = 11))\n",
    "    classifier.add(Dense(units = 6, kernel_initializer = 'uniform', activation = 'relu'))\n",
    "    classifier.add(Dense(units = 1, kernel_initializer = 'uniform', activation = 'sigmoid'))\n",
    "    classifier.compile(optimizer = 'adam', loss = 'binary_crossentropy', metrics = ['accuracy'])\n",
    "    return classifier\n",
    "classifier = KerasClassifier(build_fn = build_classifier, batch_size = 10, epochs = 100)\n",
    "accuracies = cross_val_score(estimator = classifier, X = X_train, y = y_train, cv = 10, n_jobs = -1)\n",
    "mean = accuracies.mean()\n",
    "variance = accuracies.std()"
   ]
  },
  {
   "cell_type": "code",
   "execution_count": null,
   "metadata": {
    "collapsed": true
   },
   "outputs": [],
   "source": [
    "# Improving the ANN\n",
    "# Dropout Regularization to reduce overfitting if needed\n",
    "\n",
    "# Tuning the ANN\n",
    "from keras.wrappers.scikit_learn import KerasClassifier\n",
    "from sklearn.model_selection import GridSearchCV\n",
    "from keras.models import Sequential\n",
    "from keras.layers import Dense\n",
    "from keras.layers import Dropout\n",
    "\n",
    "def build_classifier(optimizer):\n",
    "    classifier = Sequential()\n",
    "    classifier.add(Dense(units = 6, kernel_initializer = 'uniform', activation = 'relu', input_dim = 11))\n",
    "    # classifier.add(Dropout(p = 0.1))\n",
    "    classifier.add(Dense(units = 6, kernel_initializer = 'uniform', activation = 'relu'))\n",
    "    # classifier.add(Dropout(p = 0.1))\n",
    "    classifier.add(Dense(units = 1, kernel_initializer = 'uniform', activation = 'sigmoid'))\n",
    "    classifier.compile(optimizer = optimizer, loss = 'binary_crossentropy', metrics = ['accuracy'])\n",
    "    return classifier\n",
    "classifier = KerasClassifier(build_fn = build_classifier)\n",
    "parameters = {'batch_size': [25, 32],\n",
    "              'epochs': [100, 500],\n",
    "              'optimizer': ['adam', 'rmsprop']}\n",
    "grid_search = GridSearchCV(estimator = classifier,\n",
    "                           param_grid = parameters,\n",
    "                           scoring = 'accuracy',\n",
    "                           cv = 10)\n",
    "grid_search = grid_search.fit(X_train, y_train)\n",
    "best_parameters = grid_search.best_params_\n",
    "best_accuracy = grid_search.best_score_"
   ]
  },
  {
   "cell_type": "markdown",
   "metadata": {},
   "source": [
    "* __Drop out regularization__: A solution for overfitting - high variance\n",
    "    * At each iteration of training, some neurons of your artificial neural network are randomly disabled to prevent them from being too dependent on each other when they learn the correlations \n",
    "    * Therefore, by overwriting these neurons, the ANN learn several independent correlations in the data because each time there is not the same configuration of the neurons.\n",
    "    * The fact that we get these independent correlations of the data, meaning the neurons work more independently, that prevents the neuron from learning too much and therefore overfitting.\n",
    "\n",
    "- Using Dropout() argument:\n",
    "    - `p`: the fraction of the input units you want to drop/disable at each iteration. For example: if we have 10 neurons, p=0.1 (10%), this means at each iteration, 1 neuron will be disabled."
   ]
  }
 ],
 "metadata": {
  "kernelspec": {
   "display_name": "Python 3 (ipykernel)",
   "language": "python",
   "name": "python3"
  },
  "language_info": {
   "codemirror_mode": {
    "name": "ipython",
    "version": 3
   },
   "file_extension": ".py",
   "mimetype": "text/x-python",
   "name": "python",
   "nbconvert_exporter": "python",
   "pygments_lexer": "ipython3",
   "version": "3.9.17"
  },
  "toc": {
   "colors": {
    "hover_highlight": "#DAA520",
    "navigate_num": "#000000",
    "navigate_text": "#333333",
    "running_highlight": "#FF0000",
    "selected_highlight": "#FFD700",
    "sidebar_border": "#EEEEEE",
    "wrapper_background": "#FFFFFF"
   },
   "moveMenuLeft": true,
   "nav_menu": {
    "height": "30px",
    "width": "252px"
   },
   "navigate_menu": true,
   "number_sections": false,
   "sideBar": true,
   "threshold": 4,
   "toc_cell": true,
   "toc_section_display": "block",
   "toc_window_display": false,
   "widenNotebook": false
  }
 },
 "nbformat": 4,
 "nbformat_minor": 2
}
