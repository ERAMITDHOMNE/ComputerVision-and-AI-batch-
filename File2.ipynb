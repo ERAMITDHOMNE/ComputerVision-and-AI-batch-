{
 "cells": [
  {
   "cell_type": "code",
   "execution_count": null,
   "id": "9c6bb4b3",
   "metadata": {},
   "outputs": [],
   "source": [
    "# Python program to illustrate \n",
    "# arithmetic operation of \n",
    "# addition of two images \n",
    "\t\n",
    "# organizing imports \n",
    "import cv2 \n",
    "import numpy as np \n",
    "\t\n",
    "# path to input images are specified and \n",
    "# images are loaded with imread command \n",
    "image1 = cv2.imread(r'C:\\Users\\erami\\OneDrive\\Desktop\\Haarcascade\\3.jpg') \n",
    "image2 = cv2.imread(r'C:\\Users\\erami\\OneDrive\\Desktop\\Haarcascade\\4.jpg') \n",
    "\n",
    "# cv2.addWeighted is applied over the \n",
    "# image inputs with applied parameters \n",
    "weightedSum = cv2.addWeighted(image1, 0.5, image2, 0.4, 0) \n",
    "\n",
    "# the window showing output image \n",
    "# with the weighted sum \n",
    "cv2.imshow('Weighted Image', weightedSum) \n",
    "\n",
    "# De-allocate any associated memory usage \n",
    "if cv2.waitKey(0) & 0xff == 27: \n",
    "\tcv2.destroyAllWindows() "
   ]
  },
  {
   "cell_type": "code",
   "execution_count": null,
   "id": "3b15a423",
   "metadata": {},
   "outputs": [],
   "source": []
  }
 ],
 "metadata": {
  "kernelspec": {
   "display_name": "Python 3 (ipykernel)",
   "language": "python",
   "name": "python3"
  },
  "language_info": {
   "codemirror_mode": {
    "name": "ipython",
    "version": 3
   },
   "file_extension": ".py",
   "mimetype": "text/x-python",
   "name": "python",
   "nbconvert_exporter": "python",
   "pygments_lexer": "ipython3",
   "version": "3.9.17"
  }
 },
 "nbformat": 4,
 "nbformat_minor": 5
}
