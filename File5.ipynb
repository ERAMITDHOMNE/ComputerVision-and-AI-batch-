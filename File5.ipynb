{
 "cells": [
  {
   "cell_type": "code",
   "execution_count": 2,
   "id": "99a1e9c8",
   "metadata": {},
   "outputs": [],
   "source": [
    "# import opencv \n",
    "import cv2 \n",
    "\n",
    "# Load the input image \n",
    "image = cv2.imread(r'C:\\Users\\erami\\OneDrive\\Desktop\\gif\\dcoE3.jpg') \n",
    "cv2.imshow('Original', image) \n",
    "cv2.waitKey(0) \n",
    "\n",
    "# Use the cvtColor() function to grayscale the image \n",
    "gray_image = cv2.cvtColor(image, cv2.COLOR_BGR2GRAY) \n",
    "\n",
    "cv2.imshow('Grayscale', gray_image) \n",
    "cv2.waitKey(0) \n",
    "\n",
    "# Window shown waits for any key pressing event \n",
    "cv2.destroyAllWindows()"
   ]
  },
  {
   "cell_type": "code",
   "execution_count": null,
   "id": "8baa6215",
   "metadata": {},
   "outputs": [],
   "source": []
  }
 ],
 "metadata": {
  "kernelspec": {
   "display_name": "Python 3 (ipykernel)",
   "language": "python",
   "name": "python3"
  },
  "language_info": {
   "codemirror_mode": {
    "name": "ipython",
    "version": 3
   },
   "file_extension": ".py",
   "mimetype": "text/x-python",
   "name": "python",
   "nbconvert_exporter": "python",
   "pygments_lexer": "ipython3",
   "version": "3.9.17"
  }
 },
 "nbformat": 4,
 "nbformat_minor": 5
}
